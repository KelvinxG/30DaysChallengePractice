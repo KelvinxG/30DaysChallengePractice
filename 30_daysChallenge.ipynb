{
  "nbformat": 4,
  "nbformat_minor": 0,
  "metadata": {
    "colab": {
      "name": "30 daysChallenge.ipynb",
      "provenance": [],
      "authorship_tag": "ABX9TyOcxV3cN49yUjowyY9c8T4U",
      "include_colab_link": true
    },
    "kernelspec": {
      "name": "python3",
      "display_name": "Python 3"
    }
  },
  "cells": [
    {
      "cell_type": "markdown",
      "metadata": {
        "id": "view-in-github",
        "colab_type": "text"
      },
      "source": [
        "<a href=\"https://colab.research.google.com/github/KelvinxG/30DaysChallengePractice/blob/master/30_daysChallenge.ipynb\" target=\"_parent\"><img src=\"https://colab.research.google.com/assets/colab-badge.svg\" alt=\"Open In Colab\"/></a>"
      ]
    },
    {
      "cell_type": "code",
      "metadata": {
        "id": "js1JONNP-CUw",
        "colab_type": "code",
        "colab": {}
      },
      "source": [
        ""
      ],
      "execution_count": null,
      "outputs": []
    },
    {
      "cell_type": "code",
      "metadata": {
        "id": "EJeMRBgp-tTB",
        "colab_type": "code",
        "colab": {}
      },
      "source": [
        "import os\n",
        "import math\n",
        "import random\n",
        "import re\n",
        "import sys\n"
      ],
      "execution_count": null,
      "outputs": []
    },
    {
      "cell_type": "code",
      "metadata": {
        "id": "M1lFLunZmOmU",
        "colab_type": "code",
        "colab": {
          "base_uri": "https://localhost:8080/",
          "height": 204
        },
        "outputId": "aa19679a-ffe2-4f6a-9db9-c70bc7a55c60"
      },
      "source": [
        "\n",
        "#problem day 5\n",
        "n=int(input())\n",
        "\n",
        "for i in range(1,11):\n",
        "    result=n*i\n",
        "    print(n,\"x\",i,\"=\",result)\n",
        "   "
      ],
      "execution_count": null,
      "outputs": [
        {
          "output_type": "stream",
          "text": [
            "5\n",
            "5 x 1 = 5\n",
            "5 x 2 = 10\n",
            "5 x 3 = 15\n",
            "5 x 4 = 20\n",
            "5 x 5 = 25\n",
            "5 x 6 = 30\n",
            "5 x 7 = 35\n",
            "5 x 8 = 40\n",
            "5 x 9 = 45\n",
            "5 x 10 = 50\n"
          ],
          "name": "stdout"
        }
      ]
    },
    {
      "cell_type": "code",
      "metadata": {
        "id": "sDCMOBshZwf_",
        "colab_type": "code",
        "colab": {
          "base_uri": "https://localhost:8080/",
          "height": 130
        },
        "outputId": "698fe433-770f-44e1-d2b4-82623586bc37"
      },
      "source": [
        "#problem 8\n",
        "\n",
        "#map dictionary \n",
        "n=int(input(\"number of entry:\"))\n",
        "for i in range(n):\n",
        "  key,value = d.split()\n",
        "    d[key]=value\n",
        "print(d)\n",
        "d={\"a\":1,\n",
        "   \"b\":2,\n",
        "   \"c\":3\n",
        "   }\n",
        "\n",
        "\n",
        "\n"
      ],
      "execution_count": 50,
      "outputs": [
        {
          "output_type": "error",
          "ename": "IndentationError",
          "evalue": "ignored",
          "traceback": [
            "\u001b[0;36m  File \u001b[0;32m\"<ipython-input-50-4ac16e646bfd>\"\u001b[0;36m, line \u001b[0;32m8\u001b[0m\n\u001b[0;31m    d[key]=value\u001b[0m\n\u001b[0m    ^\u001b[0m\n\u001b[0;31mIndentationError\u001b[0m\u001b[0;31m:\u001b[0m unexpected indent\n"
          ]
        }
      ]
    }
  ]
}
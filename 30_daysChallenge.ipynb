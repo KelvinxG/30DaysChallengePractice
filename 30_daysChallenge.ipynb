{
  "nbformat": 4,
  "nbformat_minor": 0,
  "metadata": {
    "colab": {
      "name": "30 daysChallenge.ipynb",
      "provenance": [],
      "authorship_tag": "ABX9TyOu7ZSve0QTtRQ3NWUy7A9W",
      "include_colab_link": true
    },
    "kernelspec": {
      "name": "python3",
      "display_name": "Python 3"
    }
  },
  "cells": [
    {
      "cell_type": "markdown",
      "metadata": {
        "id": "view-in-github",
        "colab_type": "text"
      },
      "source": [
        "<a href=\"https://colab.research.google.com/github/KelvinxG/30DaysChallengePractice/blob/master/30_daysChallenge.ipynb\" target=\"_parent\"><img src=\"https://colab.research.google.com/assets/colab-badge.svg\" alt=\"Open In Colab\"/></a>"
      ]
    },
    {
      "cell_type": "code",
      "metadata": {
        "id": "EJeMRBgp-tTB"
      },
      "source": [
        "import os\n",
        "import math\n",
        "import random\n",
        "import re\n",
        "import sys\n"
      ],
      "execution_count": null,
      "outputs": []
    },
    {
      "cell_type": "code",
      "metadata": {
        "id": "M1lFLunZmOmU",
        "outputId": "aa19679a-ffe2-4f6a-9db9-c70bc7a55c60",
        "colab": {
          "base_uri": "https://localhost:8080/",
          "height": 204
        }
      },
      "source": [
        "\n",
        "#problem day 5\n",
        "n=int(input())\n",
        "\n",
        "for i in range(1,11):\n",
        "    result=n*i\n",
        "    print(n,\"x\",i,\"=\",result)\n",
        "   "
      ],
      "execution_count": null,
      "outputs": [
        {
          "output_type": "stream",
          "text": [
            "5\n",
            "5 x 1 = 5\n",
            "5 x 2 = 10\n",
            "5 x 3 = 15\n",
            "5 x 4 = 20\n",
            "5 x 5 = 25\n",
            "5 x 6 = 30\n",
            "5 x 7 = 35\n",
            "5 x 8 = 40\n",
            "5 x 9 = 45\n",
            "5 x 10 = 50\n"
          ],
          "name": "stdout"
        }
      ]
    },
    {
      "cell_type": "code",
      "metadata": {
        "id": "w5CLYfm7VfEY",
        "outputId": "55091106-e6d8-4a99-a92f-3f43375aa24e",
        "colab": {
          "base_uri": "https://localhost:8080/",
          "height": 102
        }
      },
      "source": [
        "#problem6\n",
        "\n",
        "\n",
        "for i in range(int(input())): s=input(); print(*[\"\".join(s[::2]),\"\".join(s[1::2])])"
      ],
      "execution_count": 26,
      "outputs": [
        {
          "output_type": "stream",
          "text": [
            "2\n",
            "hacker\n",
            "hce akr\n",
            "rank\n",
            "rn ak\n"
          ],
          "name": "stdout"
        }
      ]
    },
    {
      "cell_type": "code",
      "metadata": {
        "id": "f4xAh4eVbX1h",
        "outputId": "6f0010d1-bb56-4981-9af7-4d1dba8bde6c",
        "colab": {
          "base_uri": "https://localhost:8080/",
          "height": 68
        }
      },
      "source": [
        "#problem 7\n",
        "\n",
        "n = int(input())\n",
        "\n",
        "arr = list(map(int, input().strip().split()))\n",
        "rarr = map(str, arr[::-1])\n",
        "print(\" \".join(rarr))"
      ],
      "execution_count": 36,
      "outputs": [
        {
          "output_type": "stream",
          "text": [
            "2\n",
            "1 2\n",
            "2 1\n"
          ],
          "name": "stdout"
        }
      ]
    },
    {
      "cell_type": "code",
      "metadata": {
        "id": "s6JNNKTLeJ8R",
        "outputId": "14c4e3f5-f128-4e97-a76e-36433763eb5d",
        "colab": {
          "base_uri": "https://localhost:8080/",
          "height": 68
        }
      },
      "source": [
        "#problem 7 \n",
        "#reverse order using reverse\n",
        "n = int(input())\n",
        "\n",
        "arr = list(map(int, input().rstrip().split()))\n",
        "\n",
        "print(list(reversed(arr)))"
      ],
      "execution_count": 39,
      "outputs": [
        {
          "output_type": "stream",
          "text": [
            "4\n",
            "1 2 3 4\n",
            "[4, 3, 2, 1]\n"
          ],
          "name": "stdout"
        }
      ]
    },
    {
      "cell_type": "code",
      "metadata": {
        "id": "NZk62KUktJfm",
        "outputId": "f77184a9-6a9f-4f30-d2e8-4dde100ae48f",
        "colab": {
          "base_uri": "https://localhost:8080/",
          "height": 119
        }
      },
      "source": [
        "class Person:\n",
        "\tdef __init__(self, firstName, lastName, idNumber):\n",
        "\t\tself.firstName = firstName\n",
        "\t\tself.lastName = lastName\n",
        "\t\tself.idNumber = idNumber\n",
        "\tdef printPerson(self):\n",
        "\t\tprint(\"Name:\", self.lastName + \",\", self.firstName)\n",
        "\t\tprint(\"ID:\", self.idNumber)\n",
        "  \n",
        "class Student(Person):\n",
        "    def __init__(self, firstName, lastName, idNumber, testScores):\n",
        "        super().__init__(firstName, lastName, idNumber)\n",
        "        self.testScores = testScores\n",
        "\n",
        "    def calculate(self):\n",
        "        total = 0\n",
        "\n",
        "        for testScore in self.testScores:\n",
        "            total += testScore\n",
        "\n",
        "        avg = total / len(self.testScores)\n",
        "\n",
        "        if 90 <= avg <= 100:\n",
        "            return 'O'\n",
        "        if 80 <= avg < 90:\n",
        "            return 'E'\n",
        "        if 70 <= avg < 80:\n",
        "            return 'A'\n",
        "        if 55 <= avg < 70:\n",
        "            return 'P'\n",
        "        if 40 <= avg < 55:\n",
        "            return 'D'\n",
        "        return 'T'\n",
        "  \n",
        "\n",
        "line = input().split()\n",
        "firstName = line[0]\n",
        "lastName = line[1]\n",
        "idNum = line[2]\n",
        "numScores = int(input()) # not needed for Python\n",
        "scores = list( map(int, input().split()) )\n",
        "s = Student(firstName, lastName, idNum, scores)\n",
        "s.printPerson()\n",
        "print(\"Grade:\", s.calculate())\n"
      ],
      "execution_count": 40,
      "outputs": [
        {
          "output_type": "stream",
          "text": [
            "Heraldo Memelli 8135627\n",
            "2\n",
            "100 80\n",
            "Name: Memelli, Heraldo\n",
            "ID: 8135627\n",
            "Grade: O\n"
          ],
          "name": "stdout"
        }
      ]
    },
    {
      "cell_type": "code",
      "metadata": {
        "id": "36OcFSePigS5",
        "outputId": "6a1978a5-a188-44e4-a25c-7a5033dcfb0d",
        "colab": {
          "base_uri": "https://localhost:8080/",
          "height": 34
        }
      },
      "source": [
        "#problem 9\n",
        "import math\n",
        "import os\n",
        "import random\n",
        "import re\n",
        "import sys\n",
        "\n",
        "# Complete the factorial function below.\n",
        "def factorial(n):\n",
        "    \n",
        "    return math.factorial(n)\n",
        "    \n",
        "if __name__ == '__main__':\n",
        "#    fptr = open(os.environ['OUTPUT_PATH'], 'w')\n",
        "\n",
        "    n = int(input())\n",
        "\n",
        "    result = factorial(n)\n",
        "\n",
        "    #fptr.write(str(result) + '\\n')\n",
        "\n",
        "    #fptr.close()\n"
      ],
      "execution_count": 53,
      "outputs": [
        {
          "output_type": "stream",
          "text": [
            "5\n"
          ],
          "name": "stdout"
        }
      ]
    },
    {
      "cell_type": "code",
      "metadata": {
        "id": "hH52ZbpxneSn",
        "outputId": "24fb0088-ecc0-4783-8356-b8164d944c7a",
        "colab": {
          "base_uri": "https://localhost:8080/",
          "height": 51
        }
      },
      "source": [
        "import math\n",
        "import os\n",
        "import random\n",
        "import re\n",
        "import sys\n",
        "\n",
        "\n",
        "\n",
        "if __name__ == '__main__':\n",
        "    n = int(input())\n",
        "    print(bin(n)[4:])\n",
        " \n"
      ],
      "execution_count": 60,
      "outputs": [
        {
          "output_type": "stream",
          "text": [
            "5\n",
            "1\n"
          ],
          "name": "stdout"
        }
      ]
    }
  ]
}
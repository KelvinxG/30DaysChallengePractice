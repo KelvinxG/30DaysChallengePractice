{
  "nbformat": 4,
  "nbformat_minor": 0,
  "metadata": {
    "colab": {
      "name": "30 daysChallenge.ipynb",
      "provenance": [],
      "authorship_tag": "ABX9TyO5u3w0l0+QsezrIIqo2S1a",
      "include_colab_link": true
    },
    "kernelspec": {
      "name": "python3",
      "display_name": "Python 3"
    }
  },
  "cells": [
    {
      "cell_type": "markdown",
      "metadata": {
        "id": "view-in-github",
        "colab_type": "text"
      },
      "source": [
        "<a href=\"https://colab.research.google.com/github/KelvinxG/30DaysChallengePractice/blob/master/30_daysChallenge.ipynb\" target=\"_parent\"><img src=\"https://colab.research.google.com/assets/colab-badge.svg\" alt=\"Open In Colab\"/></a>"
      ]
    },
    {
      "cell_type": "code",
      "metadata": {
        "id": "EJeMRBgp-tTB",
        "colab_type": "code",
        "colab": {}
      },
      "source": [
        "import os\n",
        "import math\n",
        "import random\n",
        "import re\n",
        "import sys\n"
      ],
      "execution_count": null,
      "outputs": []
    },
    {
      "cell_type": "code",
      "metadata": {
        "id": "M1lFLunZmOmU",
        "colab_type": "code",
        "colab": {
          "base_uri": "https://localhost:8080/",
          "height": 204
        },
        "outputId": "aa19679a-ffe2-4f6a-9db9-c70bc7a55c60"
      },
      "source": [
        "\n",
        "#problem 5\n",
        "n=int(input())\n",
        "\n",
        "for i in range(1,11):\n",
        "    result=n*i\n",
        "    print(n,\"x\",i,\"=\",result)\n",
        "   "
      ],
      "execution_count": null,
      "outputs": [
        {
          "output_type": "stream",
          "text": [
            "5\n",
            "5 x 1 = 5\n",
            "5 x 2 = 10\n",
            "5 x 3 = 15\n",
            "5 x 4 = 20\n",
            "5 x 5 = 25\n",
            "5 x 6 = 30\n",
            "5 x 7 = 35\n",
            "5 x 8 = 40\n",
            "5 x 9 = 45\n",
            "5 x 10 = 50\n"
          ],
          "name": "stdout"
        }
      ]
    },
    {
      "cell_type": "code",
      "metadata": {
        "id": "eJ_xQcszeWcN",
        "colab_type": "code",
        "colab": {}
      },
      "source": [
        "#problem 6"
      ],
      "execution_count": null,
      "outputs": []
    }
  ]
}
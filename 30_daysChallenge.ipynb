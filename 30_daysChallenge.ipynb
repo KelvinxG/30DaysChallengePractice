{
  "nbformat": 4,
  "nbformat_minor": 0,
  "metadata": {
    "colab": {
      "name": "30 daysChallenge.ipynb",
      "provenance": [],
      "authorship_tag": "ABX9TyNXHEHcxGpjT9YW5hjNKyEE",
      "include_colab_link": true
    },
    "kernelspec": {
      "name": "python3",
      "display_name": "Python 3"
    }
  },
  "cells": [
    {
      "cell_type": "markdown",
      "metadata": {
        "id": "view-in-github",
        "colab_type": "text"
      },
      "source": [
        "<a href=\"https://colab.research.google.com/github/KelvinxG/30DaysChallengePractice/blob/master/30_daysChallenge.ipynb\" target=\"_parent\"><img src=\"https://colab.research.google.com/assets/colab-badge.svg\" alt=\"Open In Colab\"/></a>"
      ]
    },
    {
      "cell_type": "code",
      "metadata": {
        "id": "js1JONNP-CUw",
        "colab_type": "code",
        "colab": {}
      },
      "source": [
        ""
      ],
      "execution_count": null,
      "outputs": []
    },
    {
      "cell_type": "code",
      "metadata": {
        "id": "EJeMRBgp-tTB",
        "colab_type": "code",
        "colab": {}
      },
      "source": [
        "import os\n",
        "import math\n",
        "import random\n",
        "import re\n",
        "import sys\n"
      ],
      "execution_count": null,
      "outputs": []
    },
    {
      "cell_type": "code",
      "metadata": {
        "id": "M1lFLunZmOmU",
        "colab_type": "code",
        "colab": {
          "base_uri": "https://localhost:8080/",
          "height": 204
        },
        "outputId": "aa19679a-ffe2-4f6a-9db9-c70bc7a55c60"
      },
      "source": [
        "\n",
        "#problem day 5\n",
        "n=int(input())\n",
        "\n",
        "for i in range(1,11):\n",
        "    result=n*i\n",
        "    print(n,\"x\",i,\"=\",result)\n",
        "   "
      ],
      "execution_count": null,
      "outputs": [
        {
          "output_type": "stream",
          "text": [
            "5\n",
            "5 x 1 = 5\n",
            "5 x 2 = 10\n",
            "5 x 3 = 15\n",
            "5 x 4 = 20\n",
            "5 x 5 = 25\n",
            "5 x 6 = 30\n",
            "5 x 7 = 35\n",
            "5 x 8 = 40\n",
            "5 x 9 = 45\n",
            "5 x 10 = 50\n"
          ],
          "name": "stdout"
        }
      ]
    },
    {
      "cell_type": "code",
      "metadata": {
        "id": "ageSyc7qgH6W",
        "colab_type": "code",
        "colab": {}
      },
      "source": [
        "#problem 8\n",
        "n = int(input())\n",
        "name_numbers = [input().split() for _ in range(n)]\n",
        "phone_book = {k: v for k,v in name_numbers}\n",
        "while (1):\n",
        "    try:\n",
        "        name = input()\n",
        "        if name in phone_book:\n",
        "            print('%s=%s' % (name, phone_book[name]))\n",
        "        else:\n",
        "            print('Not found')\n",
        "    except:\n",
        "        break"
      ],
      "execution_count": 53,
      "outputs": []
    }
  ]
}